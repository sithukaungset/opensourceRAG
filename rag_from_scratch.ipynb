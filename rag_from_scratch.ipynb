{
 "cells": [
  {
   "cell_type": "code",
   "execution_count": 1,
   "metadata": {},
   "outputs": [
    {
     "name": "stdout",
     "output_type": "stream",
     "text": [
      "Defaulting to user installation because normal site-packages is not writeable\n",
      "Requirement already satisfied: llama-index-readers-file in /Users/sithukaungset/Library/Python/3.9/lib/python/site-packages (0.1.33)\n",
      "Requirement already satisfied: pymupdf in /Users/sithukaungset/Library/Python/3.9/lib/python/site-packages (1.24.9)\n",
      "Requirement already satisfied: striprtf<0.0.27,>=0.0.26 in /Users/sithukaungset/Library/Python/3.9/lib/python/site-packages (from llama-index-readers-file) (0.0.26)\n",
      "Requirement already satisfied: llama-index-core<0.11.0,>=0.10.37.post1 in /Users/sithukaungset/Library/Python/3.9/lib/python/site-packages (from llama-index-readers-file) (0.10.66)\n",
      "Requirement already satisfied: beautifulsoup4<5.0.0,>=4.12.3 in /Users/sithukaungset/Library/Python/3.9/lib/python/site-packages (from llama-index-readers-file) (4.12.3)\n",
      "Requirement already satisfied: pypdf<5.0.0,>=4.0.1 in /Users/sithukaungset/Library/Python/3.9/lib/python/site-packages (from llama-index-readers-file) (4.3.1)\n",
      "Requirement already satisfied: PyMuPDFb==1.24.9 in /Users/sithukaungset/Library/Python/3.9/lib/python/site-packages (from pymupdf) (1.24.9)\n",
      "Requirement already satisfied: soupsieve>1.2 in /Users/sithukaungset/Library/Python/3.9/lib/python/site-packages (from beautifulsoup4<5.0.0,>=4.12.3->llama-index-readers-file) (2.6)\n",
      "Requirement already satisfied: SQLAlchemy[asyncio]>=1.4.49 in /Users/sithukaungset/Library/Python/3.9/lib/python/site-packages (from llama-index-core<0.11.0,>=0.10.37.post1->llama-index-readers-file) (2.0.32)\n",
      "Requirement already satisfied: networkx>=3.0 in /Users/sithukaungset/Library/Python/3.9/lib/python/site-packages (from llama-index-core<0.11.0,>=0.10.37.post1->llama-index-readers-file) (3.2.1)\n",
      "Requirement already satisfied: wrapt in /Users/sithukaungset/Library/Python/3.9/lib/python/site-packages (from llama-index-core<0.11.0,>=0.10.37.post1->llama-index-readers-file) (1.16.0)\n",
      "Requirement already satisfied: dataclasses-json in /Users/sithukaungset/Library/Python/3.9/lib/python/site-packages (from llama-index-core<0.11.0,>=0.10.37.post1->llama-index-readers-file) (0.6.7)\n",
      "Requirement already satisfied: nest-asyncio<2.0.0,>=1.5.8 in /Users/sithukaungset/Library/Python/3.9/lib/python/site-packages (from llama-index-core<0.11.0,>=0.10.37.post1->llama-index-readers-file) (1.6.0)\n",
      "Requirement already satisfied: deprecated>=1.2.9.3 in /Users/sithukaungset/Library/Python/3.9/lib/python/site-packages (from llama-index-core<0.11.0,>=0.10.37.post1->llama-index-readers-file) (1.2.14)\n",
      "Requirement already satisfied: dirtyjson<2.0.0,>=1.0.8 in /Users/sithukaungset/Library/Python/3.9/lib/python/site-packages (from llama-index-core<0.11.0,>=0.10.37.post1->llama-index-readers-file) (1.0.8)\n",
      "Requirement already satisfied: requests>=2.31.0 in /Users/sithukaungset/Library/Python/3.9/lib/python/site-packages (from llama-index-core<0.11.0,>=0.10.37.post1->llama-index-readers-file) (2.32.3)\n",
      "Requirement already satisfied: httpx in /Users/sithukaungset/Library/Python/3.9/lib/python/site-packages (from llama-index-core<0.11.0,>=0.10.37.post1->llama-index-readers-file) (0.27.0)\n",
      "Requirement already satisfied: PyYAML>=6.0.1 in /Users/sithukaungset/Library/Python/3.9/lib/python/site-packages (from llama-index-core<0.11.0,>=0.10.37.post1->llama-index-readers-file) (6.0.2)\n",
      "Requirement already satisfied: pillow>=9.0.0 in /Users/sithukaungset/Library/Python/3.9/lib/python/site-packages (from llama-index-core<0.11.0,>=0.10.37.post1->llama-index-readers-file) (10.4.0)\n",
      "Requirement already satisfied: typing-inspect>=0.8.0 in /Users/sithukaungset/Library/Python/3.9/lib/python/site-packages (from llama-index-core<0.11.0,>=0.10.37.post1->llama-index-readers-file) (0.9.0)\n",
      "Requirement already satisfied: openai>=1.1.0 in /Users/sithukaungset/Library/Python/3.9/lib/python/site-packages (from llama-index-core<0.11.0,>=0.10.37.post1->llama-index-readers-file) (1.40.8)\n",
      "Requirement already satisfied: numpy<2.0.0 in /Users/sithukaungset/Library/Python/3.9/lib/python/site-packages (from llama-index-core<0.11.0,>=0.10.37.post1->llama-index-readers-file) (1.26.4)\n",
      "Requirement already satisfied: pandas in /Users/sithukaungset/Library/Python/3.9/lib/python/site-packages (from llama-index-core<0.11.0,>=0.10.37.post1->llama-index-readers-file) (2.2.2)\n",
      "Requirement already satisfied: tqdm<5.0.0,>=4.66.1 in /Users/sithukaungset/Library/Python/3.9/lib/python/site-packages (from llama-index-core<0.11.0,>=0.10.37.post1->llama-index-readers-file) (4.66.5)\n",
      "Requirement already satisfied: fsspec>=2023.5.0 in /Users/sithukaungset/Library/Python/3.9/lib/python/site-packages (from llama-index-core<0.11.0,>=0.10.37.post1->llama-index-readers-file) (2024.6.1)\n",
      "Requirement already satisfied: tenacity!=8.4.0,<9.0.0,>=8.2.0 in /Users/sithukaungset/Library/Python/3.9/lib/python/site-packages (from llama-index-core<0.11.0,>=0.10.37.post1->llama-index-readers-file) (8.5.0)\n",
      "Requirement already satisfied: typing-extensions>=4.5.0 in /Users/sithukaungset/Library/Python/3.9/lib/python/site-packages (from llama-index-core<0.11.0,>=0.10.37.post1->llama-index-readers-file) (4.12.2)\n",
      "Requirement already satisfied: tiktoken>=0.3.3 in /Users/sithukaungset/Library/Python/3.9/lib/python/site-packages (from llama-index-core<0.11.0,>=0.10.37.post1->llama-index-readers-file) (0.7.0)\n",
      "Requirement already satisfied: aiohttp<4.0.0,>=3.8.6 in /Users/sithukaungset/Library/Python/3.9/lib/python/site-packages (from llama-index-core<0.11.0,>=0.10.37.post1->llama-index-readers-file) (3.10.3)\n",
      "Requirement already satisfied: nltk>=3.8.1 in /Users/sithukaungset/Library/Python/3.9/lib/python/site-packages (from llama-index-core<0.11.0,>=0.10.37.post1->llama-index-readers-file) (3.8.1)\n",
      "Requirement already satisfied: attrs>=17.3.0 in /Users/sithukaungset/Library/Python/3.9/lib/python/site-packages (from aiohttp<4.0.0,>=3.8.6->llama-index-core<0.11.0,>=0.10.37.post1->llama-index-readers-file) (24.2.0)\n",
      "Requirement already satisfied: aiohappyeyeballs>=2.3.0 in /Users/sithukaungset/Library/Python/3.9/lib/python/site-packages (from aiohttp<4.0.0,>=3.8.6->llama-index-core<0.11.0,>=0.10.37.post1->llama-index-readers-file) (2.3.6)\n",
      "Requirement already satisfied: async-timeout<5.0,>=4.0 in /Users/sithukaungset/Library/Python/3.9/lib/python/site-packages (from aiohttp<4.0.0,>=3.8.6->llama-index-core<0.11.0,>=0.10.37.post1->llama-index-readers-file) (4.0.3)\n",
      "Requirement already satisfied: yarl<2.0,>=1.0 in /Users/sithukaungset/Library/Python/3.9/lib/python/site-packages (from aiohttp<4.0.0,>=3.8.6->llama-index-core<0.11.0,>=0.10.37.post1->llama-index-readers-file) (1.9.4)\n",
      "Requirement already satisfied: frozenlist>=1.1.1 in /Users/sithukaungset/Library/Python/3.9/lib/python/site-packages (from aiohttp<4.0.0,>=3.8.6->llama-index-core<0.11.0,>=0.10.37.post1->llama-index-readers-file) (1.4.1)\n",
      "Requirement already satisfied: aiosignal>=1.1.2 in /Users/sithukaungset/Library/Python/3.9/lib/python/site-packages (from aiohttp<4.0.0,>=3.8.6->llama-index-core<0.11.0,>=0.10.37.post1->llama-index-readers-file) (1.3.1)\n",
      "Requirement already satisfied: multidict<7.0,>=4.5 in /Users/sithukaungset/Library/Python/3.9/lib/python/site-packages (from aiohttp<4.0.0,>=3.8.6->llama-index-core<0.11.0,>=0.10.37.post1->llama-index-readers-file) (6.0.5)\n",
      "Requirement already satisfied: joblib in /Users/sithukaungset/Library/Python/3.9/lib/python/site-packages (from nltk>=3.8.1->llama-index-core<0.11.0,>=0.10.37.post1->llama-index-readers-file) (1.4.2)\n",
      "Requirement already satisfied: regex>=2021.8.3 in /Users/sithukaungset/Library/Python/3.9/lib/python/site-packages (from nltk>=3.8.1->llama-index-core<0.11.0,>=0.10.37.post1->llama-index-readers-file) (2024.7.24)\n",
      "Requirement already satisfied: click in /Users/sithukaungset/Library/Python/3.9/lib/python/site-packages (from nltk>=3.8.1->llama-index-core<0.11.0,>=0.10.37.post1->llama-index-readers-file) (8.1.7)\n",
      "Requirement already satisfied: jiter<1,>=0.4.0 in /Users/sithukaungset/Library/Python/3.9/lib/python/site-packages (from openai>=1.1.0->llama-index-core<0.11.0,>=0.10.37.post1->llama-index-readers-file) (0.5.0)\n",
      "Requirement already satisfied: sniffio in /Users/sithukaungset/Library/Python/3.9/lib/python/site-packages (from openai>=1.1.0->llama-index-core<0.11.0,>=0.10.37.post1->llama-index-readers-file) (1.3.1)\n",
      "Requirement already satisfied: anyio<5,>=3.5.0 in /Users/sithukaungset/Library/Python/3.9/lib/python/site-packages (from openai>=1.1.0->llama-index-core<0.11.0,>=0.10.37.post1->llama-index-readers-file) (4.4.0)\n",
      "Requirement already satisfied: distro<2,>=1.7.0 in /Users/sithukaungset/Library/Python/3.9/lib/python/site-packages (from openai>=1.1.0->llama-index-core<0.11.0,>=0.10.37.post1->llama-index-readers-file) (1.9.0)\n",
      "Requirement already satisfied: pydantic<3,>=1.9.0 in /Users/sithukaungset/Library/Python/3.9/lib/python/site-packages (from openai>=1.1.0->llama-index-core<0.11.0,>=0.10.37.post1->llama-index-readers-file) (2.8.2)\n",
      "Requirement already satisfied: exceptiongroup>=1.0.2 in /Users/sithukaungset/Library/Python/3.9/lib/python/site-packages (from anyio<5,>=3.5.0->openai>=1.1.0->llama-index-core<0.11.0,>=0.10.37.post1->llama-index-readers-file) (1.2.2)\n",
      "Requirement already satisfied: idna>=2.8 in /Users/sithukaungset/Library/Python/3.9/lib/python/site-packages (from anyio<5,>=3.5.0->openai>=1.1.0->llama-index-core<0.11.0,>=0.10.37.post1->llama-index-readers-file) (3.7)\n",
      "Requirement already satisfied: httpcore==1.* in /Users/sithukaungset/Library/Python/3.9/lib/python/site-packages (from httpx->llama-index-core<0.11.0,>=0.10.37.post1->llama-index-readers-file) (1.0.5)\n",
      "Requirement already satisfied: certifi in /Users/sithukaungset/Library/Python/3.9/lib/python/site-packages (from httpx->llama-index-core<0.11.0,>=0.10.37.post1->llama-index-readers-file) (2024.7.4)\n",
      "Requirement already satisfied: h11<0.15,>=0.13 in /Users/sithukaungset/Library/Python/3.9/lib/python/site-packages (from httpcore==1.*->httpx->llama-index-core<0.11.0,>=0.10.37.post1->llama-index-readers-file) (0.14.0)\n",
      "Requirement already satisfied: pydantic-core==2.20.1 in /Users/sithukaungset/Library/Python/3.9/lib/python/site-packages (from pydantic<3,>=1.9.0->openai>=1.1.0->llama-index-core<0.11.0,>=0.10.37.post1->llama-index-readers-file) (2.20.1)\n",
      "Requirement already satisfied: annotated-types>=0.4.0 in /Users/sithukaungset/Library/Python/3.9/lib/python/site-packages (from pydantic<3,>=1.9.0->openai>=1.1.0->llama-index-core<0.11.0,>=0.10.37.post1->llama-index-readers-file) (0.7.0)\n",
      "Requirement already satisfied: charset-normalizer<4,>=2 in /Users/sithukaungset/Library/Python/3.9/lib/python/site-packages (from requests>=2.31.0->llama-index-core<0.11.0,>=0.10.37.post1->llama-index-readers-file) (3.3.2)\n",
      "Requirement already satisfied: urllib3<3,>=1.21.1 in /Users/sithukaungset/Library/Python/3.9/lib/python/site-packages (from requests>=2.31.0->llama-index-core<0.11.0,>=0.10.37.post1->llama-index-readers-file) (2.2.2)\n",
      "Requirement already satisfied: greenlet!=0.4.17 in /Users/sithukaungset/Library/Python/3.9/lib/python/site-packages (from SQLAlchemy[asyncio]>=1.4.49->llama-index-core<0.11.0,>=0.10.37.post1->llama-index-readers-file) (3.0.3)\n",
      "Requirement already satisfied: mypy-extensions>=0.3.0 in /Users/sithukaungset/Library/Python/3.9/lib/python/site-packages (from typing-inspect>=0.8.0->llama-index-core<0.11.0,>=0.10.37.post1->llama-index-readers-file) (1.0.0)\n",
      "Requirement already satisfied: marshmallow<4.0.0,>=3.18.0 in /Users/sithukaungset/Library/Python/3.9/lib/python/site-packages (from dataclasses-json->llama-index-core<0.11.0,>=0.10.37.post1->llama-index-readers-file) (3.21.3)\n",
      "Requirement already satisfied: packaging>=17.0 in /Users/sithukaungset/Library/Python/3.9/lib/python/site-packages (from marshmallow<4.0.0,>=3.18.0->dataclasses-json->llama-index-core<0.11.0,>=0.10.37.post1->llama-index-readers-file) (23.1)\n",
      "Requirement already satisfied: python-dateutil>=2.8.2 in /Users/sithukaungset/Library/Python/3.9/lib/python/site-packages (from pandas->llama-index-core<0.11.0,>=0.10.37.post1->llama-index-readers-file) (2.8.2)\n",
      "Requirement already satisfied: tzdata>=2022.7 in /Users/sithukaungset/Library/Python/3.9/lib/python/site-packages (from pandas->llama-index-core<0.11.0,>=0.10.37.post1->llama-index-readers-file) (2024.1)\n",
      "Requirement already satisfied: pytz>=2020.1 in /Users/sithukaungset/Library/Python/3.9/lib/python/site-packages (from pandas->llama-index-core<0.11.0,>=0.10.37.post1->llama-index-readers-file) (2024.1)\n",
      "Requirement already satisfied: six>=1.5 in /Applications/Xcode.app/Contents/Developer/Library/Frameworks/Python3.framework/Versions/3.9/lib/python3.9/site-packages (from python-dateutil>=2.8.2->pandas->llama-index-core<0.11.0,>=0.10.37.post1->llama-index-readers-file) (1.15.0)\n",
      "\u001b[33mWARNING: You are using pip version 21.2.4; however, version 24.2 is available.\n",
      "You should consider upgrading via the '/Applications/Xcode.app/Contents/Developer/usr/bin/python3 -m pip install --upgrade pip' command.\u001b[0m\n",
      "Note: you may need to restart the kernel to use updated packages.\n",
      "Defaulting to user installation because normal site-packages is not writeable\n",
      "Requirement already satisfied: llama-index-vector-stores-postgres in /Users/sithukaungset/Library/Python/3.9/lib/python/site-packages (0.1.14)\n",
      "Requirement already satisfied: llama-index-core<0.11.0,>=0.10.20 in /Users/sithukaungset/Library/Python/3.9/lib/python/site-packages (from llama-index-vector-stores-postgres) (0.10.66)\n",
      "Requirement already satisfied: psycopg2-binary<3.0.0,>=2.9.9 in /Users/sithukaungset/Library/Python/3.9/lib/python/site-packages (from llama-index-vector-stores-postgres) (2.9.9)\n",
      "Requirement already satisfied: asyncpg<0.30.0,>=0.29.0 in /Users/sithukaungset/Library/Python/3.9/lib/python/site-packages (from llama-index-vector-stores-postgres) (0.29.0)\n",
      "Requirement already satisfied: pgvector<0.3.0,>=0.2.4 in /Users/sithukaungset/Library/Python/3.9/lib/python/site-packages (from llama-index-vector-stores-postgres) (0.2.5)\n",
      "Requirement already satisfied: sqlalchemy[asyncio]<2.1,>=1.4.49 in /Users/sithukaungset/Library/Python/3.9/lib/python/site-packages (from llama-index-vector-stores-postgres) (2.0.32)\n",
      "Requirement already satisfied: async-timeout>=4.0.3 in /Users/sithukaungset/Library/Python/3.9/lib/python/site-packages (from asyncpg<0.30.0,>=0.29.0->llama-index-vector-stores-postgres) (4.0.3)\n",
      "Requirement already satisfied: deprecated>=1.2.9.3 in /Users/sithukaungset/Library/Python/3.9/lib/python/site-packages (from llama-index-core<0.11.0,>=0.10.20->llama-index-vector-stores-postgres) (1.2.14)\n",
      "Requirement already satisfied: pillow>=9.0.0 in /Users/sithukaungset/Library/Python/3.9/lib/python/site-packages (from llama-index-core<0.11.0,>=0.10.20->llama-index-vector-stores-postgres) (10.4.0)\n",
      "Requirement already satisfied: openai>=1.1.0 in /Users/sithukaungset/Library/Python/3.9/lib/python/site-packages (from llama-index-core<0.11.0,>=0.10.20->llama-index-vector-stores-postgres) (1.40.8)\n",
      "Requirement already satisfied: dataclasses-json in /Users/sithukaungset/Library/Python/3.9/lib/python/site-packages (from llama-index-core<0.11.0,>=0.10.20->llama-index-vector-stores-postgres) (0.6.7)\n",
      "Requirement already satisfied: typing-extensions>=4.5.0 in /Users/sithukaungset/Library/Python/3.9/lib/python/site-packages (from llama-index-core<0.11.0,>=0.10.20->llama-index-vector-stores-postgres) (4.12.2)\n",
      "Requirement already satisfied: requests>=2.31.0 in /Users/sithukaungset/Library/Python/3.9/lib/python/site-packages (from llama-index-core<0.11.0,>=0.10.20->llama-index-vector-stores-postgres) (2.32.3)\n",
      "Requirement already satisfied: networkx>=3.0 in /Users/sithukaungset/Library/Python/3.9/lib/python/site-packages (from llama-index-core<0.11.0,>=0.10.20->llama-index-vector-stores-postgres) (3.2.1)\n",
      "Requirement already satisfied: numpy<2.0.0 in /Users/sithukaungset/Library/Python/3.9/lib/python/site-packages (from llama-index-core<0.11.0,>=0.10.20->llama-index-vector-stores-postgres) (1.26.4)\n",
      "Requirement already satisfied: PyYAML>=6.0.1 in /Users/sithukaungset/Library/Python/3.9/lib/python/site-packages (from llama-index-core<0.11.0,>=0.10.20->llama-index-vector-stores-postgres) (6.0.2)\n",
      "Requirement already satisfied: typing-inspect>=0.8.0 in /Users/sithukaungset/Library/Python/3.9/lib/python/site-packages (from llama-index-core<0.11.0,>=0.10.20->llama-index-vector-stores-postgres) (0.9.0)\n",
      "Requirement already satisfied: tiktoken>=0.3.3 in /Users/sithukaungset/Library/Python/3.9/lib/python/site-packages (from llama-index-core<0.11.0,>=0.10.20->llama-index-vector-stores-postgres) (0.7.0)\n",
      "Requirement already satisfied: tqdm<5.0.0,>=4.66.1 in /Users/sithukaungset/Library/Python/3.9/lib/python/site-packages (from llama-index-core<0.11.0,>=0.10.20->llama-index-vector-stores-postgres) (4.66.5)\n",
      "Requirement already satisfied: nest-asyncio<2.0.0,>=1.5.8 in /Users/sithukaungset/Library/Python/3.9/lib/python/site-packages (from llama-index-core<0.11.0,>=0.10.20->llama-index-vector-stores-postgres) (1.6.0)\n",
      "Requirement already satisfied: tenacity!=8.4.0,<9.0.0,>=8.2.0 in /Users/sithukaungset/Library/Python/3.9/lib/python/site-packages (from llama-index-core<0.11.0,>=0.10.20->llama-index-vector-stores-postgres) (8.5.0)\n",
      "Requirement already satisfied: dirtyjson<2.0.0,>=1.0.8 in /Users/sithukaungset/Library/Python/3.9/lib/python/site-packages (from llama-index-core<0.11.0,>=0.10.20->llama-index-vector-stores-postgres) (1.0.8)\n",
      "Requirement already satisfied: httpx in /Users/sithukaungset/Library/Python/3.9/lib/python/site-packages (from llama-index-core<0.11.0,>=0.10.20->llama-index-vector-stores-postgres) (0.27.0)\n",
      "Requirement already satisfied: fsspec>=2023.5.0 in /Users/sithukaungset/Library/Python/3.9/lib/python/site-packages (from llama-index-core<0.11.0,>=0.10.20->llama-index-vector-stores-postgres) (2024.6.1)\n",
      "Requirement already satisfied: wrapt in /Users/sithukaungset/Library/Python/3.9/lib/python/site-packages (from llama-index-core<0.11.0,>=0.10.20->llama-index-vector-stores-postgres) (1.16.0)\n",
      "Requirement already satisfied: nltk>=3.8.1 in /Users/sithukaungset/Library/Python/3.9/lib/python/site-packages (from llama-index-core<0.11.0,>=0.10.20->llama-index-vector-stores-postgres) (3.8.1)\n",
      "Requirement already satisfied: pandas in /Users/sithukaungset/Library/Python/3.9/lib/python/site-packages (from llama-index-core<0.11.0,>=0.10.20->llama-index-vector-stores-postgres) (2.2.2)\n",
      "Requirement already satisfied: aiohttp<4.0.0,>=3.8.6 in /Users/sithukaungset/Library/Python/3.9/lib/python/site-packages (from llama-index-core<0.11.0,>=0.10.20->llama-index-vector-stores-postgres) (3.10.3)\n",
      "Requirement already satisfied: multidict<7.0,>=4.5 in /Users/sithukaungset/Library/Python/3.9/lib/python/site-packages (from aiohttp<4.0.0,>=3.8.6->llama-index-core<0.11.0,>=0.10.20->llama-index-vector-stores-postgres) (6.0.5)\n",
      "Requirement already satisfied: attrs>=17.3.0 in /Users/sithukaungset/Library/Python/3.9/lib/python/site-packages (from aiohttp<4.0.0,>=3.8.6->llama-index-core<0.11.0,>=0.10.20->llama-index-vector-stores-postgres) (24.2.0)\n",
      "Requirement already satisfied: frozenlist>=1.1.1 in /Users/sithukaungset/Library/Python/3.9/lib/python/site-packages (from aiohttp<4.0.0,>=3.8.6->llama-index-core<0.11.0,>=0.10.20->llama-index-vector-stores-postgres) (1.4.1)\n",
      "Requirement already satisfied: aiohappyeyeballs>=2.3.0 in /Users/sithukaungset/Library/Python/3.9/lib/python/site-packages (from aiohttp<4.0.0,>=3.8.6->llama-index-core<0.11.0,>=0.10.20->llama-index-vector-stores-postgres) (2.3.6)\n",
      "Requirement already satisfied: aiosignal>=1.1.2 in /Users/sithukaungset/Library/Python/3.9/lib/python/site-packages (from aiohttp<4.0.0,>=3.8.6->llama-index-core<0.11.0,>=0.10.20->llama-index-vector-stores-postgres) (1.3.1)\n",
      "Requirement already satisfied: yarl<2.0,>=1.0 in /Users/sithukaungset/Library/Python/3.9/lib/python/site-packages (from aiohttp<4.0.0,>=3.8.6->llama-index-core<0.11.0,>=0.10.20->llama-index-vector-stores-postgres) (1.9.4)\n",
      "Requirement already satisfied: click in /Users/sithukaungset/Library/Python/3.9/lib/python/site-packages (from nltk>=3.8.1->llama-index-core<0.11.0,>=0.10.20->llama-index-vector-stores-postgres) (8.1.7)\n",
      "Requirement already satisfied: joblib in /Users/sithukaungset/Library/Python/3.9/lib/python/site-packages (from nltk>=3.8.1->llama-index-core<0.11.0,>=0.10.20->llama-index-vector-stores-postgres) (1.4.2)\n",
      "Requirement already satisfied: regex>=2021.8.3 in /Users/sithukaungset/Library/Python/3.9/lib/python/site-packages (from nltk>=3.8.1->llama-index-core<0.11.0,>=0.10.20->llama-index-vector-stores-postgres) (2024.7.24)\n",
      "Requirement already satisfied: pydantic<3,>=1.9.0 in /Users/sithukaungset/Library/Python/3.9/lib/python/site-packages (from openai>=1.1.0->llama-index-core<0.11.0,>=0.10.20->llama-index-vector-stores-postgres) (2.8.2)\n",
      "Requirement already satisfied: sniffio in /Users/sithukaungset/Library/Python/3.9/lib/python/site-packages (from openai>=1.1.0->llama-index-core<0.11.0,>=0.10.20->llama-index-vector-stores-postgres) (1.3.1)\n",
      "Requirement already satisfied: jiter<1,>=0.4.0 in /Users/sithukaungset/Library/Python/3.9/lib/python/site-packages (from openai>=1.1.0->llama-index-core<0.11.0,>=0.10.20->llama-index-vector-stores-postgres) (0.5.0)\n",
      "Requirement already satisfied: anyio<5,>=3.5.0 in /Users/sithukaungset/Library/Python/3.9/lib/python/site-packages (from openai>=1.1.0->llama-index-core<0.11.0,>=0.10.20->llama-index-vector-stores-postgres) (4.4.0)\n",
      "Requirement already satisfied: distro<2,>=1.7.0 in /Users/sithukaungset/Library/Python/3.9/lib/python/site-packages (from openai>=1.1.0->llama-index-core<0.11.0,>=0.10.20->llama-index-vector-stores-postgres) (1.9.0)\n",
      "Requirement already satisfied: idna>=2.8 in /Users/sithukaungset/Library/Python/3.9/lib/python/site-packages (from anyio<5,>=3.5.0->openai>=1.1.0->llama-index-core<0.11.0,>=0.10.20->llama-index-vector-stores-postgres) (3.7)\n",
      "Requirement already satisfied: exceptiongroup>=1.0.2 in /Users/sithukaungset/Library/Python/3.9/lib/python/site-packages (from anyio<5,>=3.5.0->openai>=1.1.0->llama-index-core<0.11.0,>=0.10.20->llama-index-vector-stores-postgres) (1.2.2)\n",
      "Requirement already satisfied: certifi in /Users/sithukaungset/Library/Python/3.9/lib/python/site-packages (from httpx->llama-index-core<0.11.0,>=0.10.20->llama-index-vector-stores-postgres) (2024.7.4)\n",
      "Requirement already satisfied: httpcore==1.* in /Users/sithukaungset/Library/Python/3.9/lib/python/site-packages (from httpx->llama-index-core<0.11.0,>=0.10.20->llama-index-vector-stores-postgres) (1.0.5)\n",
      "Requirement already satisfied: h11<0.15,>=0.13 in /Users/sithukaungset/Library/Python/3.9/lib/python/site-packages (from httpcore==1.*->httpx->llama-index-core<0.11.0,>=0.10.20->llama-index-vector-stores-postgres) (0.14.0)\n",
      "Requirement already satisfied: pydantic-core==2.20.1 in /Users/sithukaungset/Library/Python/3.9/lib/python/site-packages (from pydantic<3,>=1.9.0->openai>=1.1.0->llama-index-core<0.11.0,>=0.10.20->llama-index-vector-stores-postgres) (2.20.1)\n",
      "Requirement already satisfied: annotated-types>=0.4.0 in /Users/sithukaungset/Library/Python/3.9/lib/python/site-packages (from pydantic<3,>=1.9.0->openai>=1.1.0->llama-index-core<0.11.0,>=0.10.20->llama-index-vector-stores-postgres) (0.7.0)\n",
      "Requirement already satisfied: urllib3<3,>=1.21.1 in /Users/sithukaungset/Library/Python/3.9/lib/python/site-packages (from requests>=2.31.0->llama-index-core<0.11.0,>=0.10.20->llama-index-vector-stores-postgres) (2.2.2)\n",
      "Requirement already satisfied: charset-normalizer<4,>=2 in /Users/sithukaungset/Library/Python/3.9/lib/python/site-packages (from requests>=2.31.0->llama-index-core<0.11.0,>=0.10.20->llama-index-vector-stores-postgres) (3.3.2)\n",
      "Requirement already satisfied: greenlet!=0.4.17 in /Users/sithukaungset/Library/Python/3.9/lib/python/site-packages (from sqlalchemy[asyncio]<2.1,>=1.4.49->llama-index-vector-stores-postgres) (3.0.3)\n",
      "Requirement already satisfied: mypy-extensions>=0.3.0 in /Users/sithukaungset/Library/Python/3.9/lib/python/site-packages (from typing-inspect>=0.8.0->llama-index-core<0.11.0,>=0.10.20->llama-index-vector-stores-postgres) (1.0.0)\n",
      "Requirement already satisfied: marshmallow<4.0.0,>=3.18.0 in /Users/sithukaungset/Library/Python/3.9/lib/python/site-packages (from dataclasses-json->llama-index-core<0.11.0,>=0.10.20->llama-index-vector-stores-postgres) (3.21.3)\n",
      "Requirement already satisfied: packaging>=17.0 in /Users/sithukaungset/Library/Python/3.9/lib/python/site-packages (from marshmallow<4.0.0,>=3.18.0->dataclasses-json->llama-index-core<0.11.0,>=0.10.20->llama-index-vector-stores-postgres) (23.1)\n",
      "Requirement already satisfied: python-dateutil>=2.8.2 in /Users/sithukaungset/Library/Python/3.9/lib/python/site-packages (from pandas->llama-index-core<0.11.0,>=0.10.20->llama-index-vector-stores-postgres) (2.8.2)\n",
      "Requirement already satisfied: pytz>=2020.1 in /Users/sithukaungset/Library/Python/3.9/lib/python/site-packages (from pandas->llama-index-core<0.11.0,>=0.10.20->llama-index-vector-stores-postgres) (2024.1)\n",
      "Requirement already satisfied: tzdata>=2022.7 in /Users/sithukaungset/Library/Python/3.9/lib/python/site-packages (from pandas->llama-index-core<0.11.0,>=0.10.20->llama-index-vector-stores-postgres) (2024.1)\n",
      "Requirement already satisfied: six>=1.5 in /Applications/Xcode.app/Contents/Developer/Library/Frameworks/Python3.framework/Versions/3.9/lib/python3.9/site-packages (from python-dateutil>=2.8.2->pandas->llama-index-core<0.11.0,>=0.10.20->llama-index-vector-stores-postgres) (1.15.0)\n",
      "\u001b[33mWARNING: You are using pip version 21.2.4; however, version 24.2 is available.\n",
      "You should consider upgrading via the '/Applications/Xcode.app/Contents/Developer/usr/bin/python3 -m pip install --upgrade pip' command.\u001b[0m\n",
      "Note: you may need to restart the kernel to use updated packages.\n",
      "Defaulting to user installation because normal site-packages is not writeable\n",
      "Requirement already satisfied: llama-index-embeddings-huggingface in /Users/sithukaungset/Library/Python/3.9/lib/python/site-packages (0.2.3)\n",
      "Requirement already satisfied: llama-index-core<0.11.0,>=0.10.1 in /Users/sithukaungset/Library/Python/3.9/lib/python/site-packages (from llama-index-embeddings-huggingface) (0.10.66)\n",
      "Requirement already satisfied: sentence-transformers>=2.6.1 in /Users/sithukaungset/Library/Python/3.9/lib/python/site-packages (from llama-index-embeddings-huggingface) (3.0.1)\n",
      "Requirement already satisfied: huggingface-hub[inference]>=0.19.0 in /Users/sithukaungset/Library/Python/3.9/lib/python/site-packages (from llama-index-embeddings-huggingface) (0.24.5)\n",
      "Requirement already satisfied: typing-extensions>=3.7.4.3 in /Users/sithukaungset/Library/Python/3.9/lib/python/site-packages (from huggingface-hub[inference]>=0.19.0->llama-index-embeddings-huggingface) (4.12.2)\n",
      "Requirement already satisfied: fsspec>=2023.5.0 in /Users/sithukaungset/Library/Python/3.9/lib/python/site-packages (from huggingface-hub[inference]>=0.19.0->llama-index-embeddings-huggingface) (2024.6.1)\n",
      "Requirement already satisfied: pyyaml>=5.1 in /Users/sithukaungset/Library/Python/3.9/lib/python/site-packages (from huggingface-hub[inference]>=0.19.0->llama-index-embeddings-huggingface) (6.0.2)\n",
      "Requirement already satisfied: tqdm>=4.42.1 in /Users/sithukaungset/Library/Python/3.9/lib/python/site-packages (from huggingface-hub[inference]>=0.19.0->llama-index-embeddings-huggingface) (4.66.5)\n",
      "Requirement already satisfied: filelock in /Users/sithukaungset/Library/Python/3.9/lib/python/site-packages (from huggingface-hub[inference]>=0.19.0->llama-index-embeddings-huggingface) (3.15.4)\n",
      "Requirement already satisfied: requests in /Users/sithukaungset/Library/Python/3.9/lib/python/site-packages (from huggingface-hub[inference]>=0.19.0->llama-index-embeddings-huggingface) (2.32.3)\n",
      "Requirement already satisfied: packaging>=20.9 in /Users/sithukaungset/Library/Python/3.9/lib/python/site-packages (from huggingface-hub[inference]>=0.19.0->llama-index-embeddings-huggingface) (23.1)\n",
      "Requirement already satisfied: minijinja>=1.0 in /Users/sithukaungset/Library/Python/3.9/lib/python/site-packages (from huggingface-hub[inference]>=0.19.0->llama-index-embeddings-huggingface) (2.0.1)\n",
      "Requirement already satisfied: aiohttp in /Users/sithukaungset/Library/Python/3.9/lib/python/site-packages (from huggingface-hub[inference]>=0.19.0->llama-index-embeddings-huggingface) (3.10.3)\n",
      "Requirement already satisfied: tiktoken>=0.3.3 in /Users/sithukaungset/Library/Python/3.9/lib/python/site-packages (from llama-index-core<0.11.0,>=0.10.1->llama-index-embeddings-huggingface) (0.7.0)\n",
      "Requirement already satisfied: pandas in /Users/sithukaungset/Library/Python/3.9/lib/python/site-packages (from llama-index-core<0.11.0,>=0.10.1->llama-index-embeddings-huggingface) (2.2.2)\n",
      "Requirement already satisfied: dataclasses-json in /Users/sithukaungset/Library/Python/3.9/lib/python/site-packages (from llama-index-core<0.11.0,>=0.10.1->llama-index-embeddings-huggingface) (0.6.7)\n",
      "Requirement already satisfied: nest-asyncio<2.0.0,>=1.5.8 in /Users/sithukaungset/Library/Python/3.9/lib/python/site-packages (from llama-index-core<0.11.0,>=0.10.1->llama-index-embeddings-huggingface) (1.6.0)\n",
      "Requirement already satisfied: tenacity!=8.4.0,<9.0.0,>=8.2.0 in /Users/sithukaungset/Library/Python/3.9/lib/python/site-packages (from llama-index-core<0.11.0,>=0.10.1->llama-index-embeddings-huggingface) (8.5.0)\n",
      "Requirement already satisfied: deprecated>=1.2.9.3 in /Users/sithukaungset/Library/Python/3.9/lib/python/site-packages (from llama-index-core<0.11.0,>=0.10.1->llama-index-embeddings-huggingface) (1.2.14)\n",
      "Requirement already satisfied: dirtyjson<2.0.0,>=1.0.8 in /Users/sithukaungset/Library/Python/3.9/lib/python/site-packages (from llama-index-core<0.11.0,>=0.10.1->llama-index-embeddings-huggingface) (1.0.8)\n",
      "Requirement already satisfied: wrapt in /Users/sithukaungset/Library/Python/3.9/lib/python/site-packages (from llama-index-core<0.11.0,>=0.10.1->llama-index-embeddings-huggingface) (1.16.0)\n",
      "Requirement already satisfied: nltk>=3.8.1 in /Users/sithukaungset/Library/Python/3.9/lib/python/site-packages (from llama-index-core<0.11.0,>=0.10.1->llama-index-embeddings-huggingface) (3.8.1)\n",
      "Requirement already satisfied: SQLAlchemy[asyncio]>=1.4.49 in /Users/sithukaungset/Library/Python/3.9/lib/python/site-packages (from llama-index-core<0.11.0,>=0.10.1->llama-index-embeddings-huggingface) (2.0.32)\n",
      "Requirement already satisfied: networkx>=3.0 in /Users/sithukaungset/Library/Python/3.9/lib/python/site-packages (from llama-index-core<0.11.0,>=0.10.1->llama-index-embeddings-huggingface) (3.2.1)\n",
      "Requirement already satisfied: numpy<2.0.0 in /Users/sithukaungset/Library/Python/3.9/lib/python/site-packages (from llama-index-core<0.11.0,>=0.10.1->llama-index-embeddings-huggingface) (1.26.4)\n",
      "Requirement already satisfied: pillow>=9.0.0 in /Users/sithukaungset/Library/Python/3.9/lib/python/site-packages (from llama-index-core<0.11.0,>=0.10.1->llama-index-embeddings-huggingface) (10.4.0)\n",
      "Requirement already satisfied: typing-inspect>=0.8.0 in /Users/sithukaungset/Library/Python/3.9/lib/python/site-packages (from llama-index-core<0.11.0,>=0.10.1->llama-index-embeddings-huggingface) (0.9.0)\n",
      "Requirement already satisfied: httpx in /Users/sithukaungset/Library/Python/3.9/lib/python/site-packages (from llama-index-core<0.11.0,>=0.10.1->llama-index-embeddings-huggingface) (0.27.0)\n",
      "Requirement already satisfied: openai>=1.1.0 in /Users/sithukaungset/Library/Python/3.9/lib/python/site-packages (from llama-index-core<0.11.0,>=0.10.1->llama-index-embeddings-huggingface) (1.40.8)\n",
      "Requirement already satisfied: async-timeout<5.0,>=4.0 in /Users/sithukaungset/Library/Python/3.9/lib/python/site-packages (from aiohttp->huggingface-hub[inference]>=0.19.0->llama-index-embeddings-huggingface) (4.0.3)\n",
      "Requirement already satisfied: frozenlist>=1.1.1 in /Users/sithukaungset/Library/Python/3.9/lib/python/site-packages (from aiohttp->huggingface-hub[inference]>=0.19.0->llama-index-embeddings-huggingface) (1.4.1)\n",
      "Requirement already satisfied: attrs>=17.3.0 in /Users/sithukaungset/Library/Python/3.9/lib/python/site-packages (from aiohttp->huggingface-hub[inference]>=0.19.0->llama-index-embeddings-huggingface) (24.2.0)\n",
      "Requirement already satisfied: aiohappyeyeballs>=2.3.0 in /Users/sithukaungset/Library/Python/3.9/lib/python/site-packages (from aiohttp->huggingface-hub[inference]>=0.19.0->llama-index-embeddings-huggingface) (2.3.6)\n",
      "Requirement already satisfied: multidict<7.0,>=4.5 in /Users/sithukaungset/Library/Python/3.9/lib/python/site-packages (from aiohttp->huggingface-hub[inference]>=0.19.0->llama-index-embeddings-huggingface) (6.0.5)\n",
      "Requirement already satisfied: aiosignal>=1.1.2 in /Users/sithukaungset/Library/Python/3.9/lib/python/site-packages (from aiohttp->huggingface-hub[inference]>=0.19.0->llama-index-embeddings-huggingface) (1.3.1)\n",
      "Requirement already satisfied: yarl<2.0,>=1.0 in /Users/sithukaungset/Library/Python/3.9/lib/python/site-packages (from aiohttp->huggingface-hub[inference]>=0.19.0->llama-index-embeddings-huggingface) (1.9.4)\n",
      "Requirement already satisfied: click in /Users/sithukaungset/Library/Python/3.9/lib/python/site-packages (from nltk>=3.8.1->llama-index-core<0.11.0,>=0.10.1->llama-index-embeddings-huggingface) (8.1.7)\n",
      "Requirement already satisfied: regex>=2021.8.3 in /Users/sithukaungset/Library/Python/3.9/lib/python/site-packages (from nltk>=3.8.1->llama-index-core<0.11.0,>=0.10.1->llama-index-embeddings-huggingface) (2024.7.24)\n",
      "Requirement already satisfied: joblib in /Users/sithukaungset/Library/Python/3.9/lib/python/site-packages (from nltk>=3.8.1->llama-index-core<0.11.0,>=0.10.1->llama-index-embeddings-huggingface) (1.4.2)\n",
      "Requirement already satisfied: anyio<5,>=3.5.0 in /Users/sithukaungset/Library/Python/3.9/lib/python/site-packages (from openai>=1.1.0->llama-index-core<0.11.0,>=0.10.1->llama-index-embeddings-huggingface) (4.4.0)\n",
      "Requirement already satisfied: distro<2,>=1.7.0 in /Users/sithukaungset/Library/Python/3.9/lib/python/site-packages (from openai>=1.1.0->llama-index-core<0.11.0,>=0.10.1->llama-index-embeddings-huggingface) (1.9.0)\n",
      "Requirement already satisfied: pydantic<3,>=1.9.0 in /Users/sithukaungset/Library/Python/3.9/lib/python/site-packages (from openai>=1.1.0->llama-index-core<0.11.0,>=0.10.1->llama-index-embeddings-huggingface) (2.8.2)\n",
      "Requirement already satisfied: jiter<1,>=0.4.0 in /Users/sithukaungset/Library/Python/3.9/lib/python/site-packages (from openai>=1.1.0->llama-index-core<0.11.0,>=0.10.1->llama-index-embeddings-huggingface) (0.5.0)\n",
      "Requirement already satisfied: sniffio in /Users/sithukaungset/Library/Python/3.9/lib/python/site-packages (from openai>=1.1.0->llama-index-core<0.11.0,>=0.10.1->llama-index-embeddings-huggingface) (1.3.1)\n",
      "Requirement already satisfied: idna>=2.8 in /Users/sithukaungset/Library/Python/3.9/lib/python/site-packages (from anyio<5,>=3.5.0->openai>=1.1.0->llama-index-core<0.11.0,>=0.10.1->llama-index-embeddings-huggingface) (3.7)\n",
      "Requirement already satisfied: exceptiongroup>=1.0.2 in /Users/sithukaungset/Library/Python/3.9/lib/python/site-packages (from anyio<5,>=3.5.0->openai>=1.1.0->llama-index-core<0.11.0,>=0.10.1->llama-index-embeddings-huggingface) (1.2.2)\n",
      "Requirement already satisfied: httpcore==1.* in /Users/sithukaungset/Library/Python/3.9/lib/python/site-packages (from httpx->llama-index-core<0.11.0,>=0.10.1->llama-index-embeddings-huggingface) (1.0.5)\n",
      "Requirement already satisfied: certifi in /Users/sithukaungset/Library/Python/3.9/lib/python/site-packages (from httpx->llama-index-core<0.11.0,>=0.10.1->llama-index-embeddings-huggingface) (2024.7.4)\n",
      "Requirement already satisfied: h11<0.15,>=0.13 in /Users/sithukaungset/Library/Python/3.9/lib/python/site-packages (from httpcore==1.*->httpx->llama-index-core<0.11.0,>=0.10.1->llama-index-embeddings-huggingface) (0.14.0)\n",
      "Requirement already satisfied: pydantic-core==2.20.1 in /Users/sithukaungset/Library/Python/3.9/lib/python/site-packages (from pydantic<3,>=1.9.0->openai>=1.1.0->llama-index-core<0.11.0,>=0.10.1->llama-index-embeddings-huggingface) (2.20.1)\n",
      "Requirement already satisfied: annotated-types>=0.4.0 in /Users/sithukaungset/Library/Python/3.9/lib/python/site-packages (from pydantic<3,>=1.9.0->openai>=1.1.0->llama-index-core<0.11.0,>=0.10.1->llama-index-embeddings-huggingface) (0.7.0)\n",
      "Requirement already satisfied: urllib3<3,>=1.21.1 in /Users/sithukaungset/Library/Python/3.9/lib/python/site-packages (from requests->huggingface-hub[inference]>=0.19.0->llama-index-embeddings-huggingface) (2.2.2)\n",
      "Requirement already satisfied: charset-normalizer<4,>=2 in /Users/sithukaungset/Library/Python/3.9/lib/python/site-packages (from requests->huggingface-hub[inference]>=0.19.0->llama-index-embeddings-huggingface) (3.3.2)\n",
      "Requirement already satisfied: scipy in /Users/sithukaungset/Library/Python/3.9/lib/python/site-packages (from sentence-transformers>=2.6.1->llama-index-embeddings-huggingface) (1.13.1)\n",
      "Requirement already satisfied: transformers<5.0.0,>=4.34.0 in /Users/sithukaungset/Library/Python/3.9/lib/python/site-packages (from sentence-transformers>=2.6.1->llama-index-embeddings-huggingface) (4.44.0)\n",
      "Requirement already satisfied: torch>=1.11.0 in /Users/sithukaungset/Library/Python/3.9/lib/python/site-packages (from sentence-transformers>=2.6.1->llama-index-embeddings-huggingface) (2.4.0)\n",
      "Requirement already satisfied: scikit-learn in /Users/sithukaungset/Library/Python/3.9/lib/python/site-packages (from sentence-transformers>=2.6.1->llama-index-embeddings-huggingface) (1.5.1)\n",
      "Requirement already satisfied: greenlet!=0.4.17 in /Users/sithukaungset/Library/Python/3.9/lib/python/site-packages (from SQLAlchemy[asyncio]>=1.4.49->llama-index-core<0.11.0,>=0.10.1->llama-index-embeddings-huggingface) (3.0.3)\n",
      "Requirement already satisfied: sympy in /Users/sithukaungset/Library/Python/3.9/lib/python/site-packages (from torch>=1.11.0->sentence-transformers>=2.6.1->llama-index-embeddings-huggingface) (1.13.2)\n",
      "Requirement already satisfied: jinja2 in /Users/sithukaungset/Library/Python/3.9/lib/python/site-packages (from torch>=1.11.0->sentence-transformers>=2.6.1->llama-index-embeddings-huggingface) (3.1.4)\n",
      "Requirement already satisfied: tokenizers<0.20,>=0.19 in /Users/sithukaungset/Library/Python/3.9/lib/python/site-packages (from transformers<5.0.0,>=4.34.0->sentence-transformers>=2.6.1->llama-index-embeddings-huggingface) (0.19.1)\n",
      "Requirement already satisfied: safetensors>=0.4.1 in /Users/sithukaungset/Library/Python/3.9/lib/python/site-packages (from transformers<5.0.0,>=4.34.0->sentence-transformers>=2.6.1->llama-index-embeddings-huggingface) (0.4.4)\n",
      "Requirement already satisfied: mypy-extensions>=0.3.0 in /Users/sithukaungset/Library/Python/3.9/lib/python/site-packages (from typing-inspect>=0.8.0->llama-index-core<0.11.0,>=0.10.1->llama-index-embeddings-huggingface) (1.0.0)\n",
      "Requirement already satisfied: marshmallow<4.0.0,>=3.18.0 in /Users/sithukaungset/Library/Python/3.9/lib/python/site-packages (from dataclasses-json->llama-index-core<0.11.0,>=0.10.1->llama-index-embeddings-huggingface) (3.21.3)\n",
      "Requirement already satisfied: MarkupSafe>=2.0 in /Users/sithukaungset/Library/Python/3.9/lib/python/site-packages (from jinja2->torch>=1.11.0->sentence-transformers>=2.6.1->llama-index-embeddings-huggingface) (2.1.5)\n",
      "Requirement already satisfied: tzdata>=2022.7 in /Users/sithukaungset/Library/Python/3.9/lib/python/site-packages (from pandas->llama-index-core<0.11.0,>=0.10.1->llama-index-embeddings-huggingface) (2024.1)\n",
      "Requirement already satisfied: python-dateutil>=2.8.2 in /Users/sithukaungset/Library/Python/3.9/lib/python/site-packages (from pandas->llama-index-core<0.11.0,>=0.10.1->llama-index-embeddings-huggingface) (2.8.2)\n",
      "Requirement already satisfied: pytz>=2020.1 in /Users/sithukaungset/Library/Python/3.9/lib/python/site-packages (from pandas->llama-index-core<0.11.0,>=0.10.1->llama-index-embeddings-huggingface) (2024.1)\n",
      "Requirement already satisfied: six>=1.5 in /Applications/Xcode.app/Contents/Developer/Library/Frameworks/Python3.framework/Versions/3.9/lib/python3.9/site-packages (from python-dateutil>=2.8.2->pandas->llama-index-core<0.11.0,>=0.10.1->llama-index-embeddings-huggingface) (1.15.0)\n",
      "Requirement already satisfied: threadpoolctl>=3.1.0 in /Users/sithukaungset/Library/Python/3.9/lib/python/site-packages (from scikit-learn->sentence-transformers>=2.6.1->llama-index-embeddings-huggingface) (3.5.0)\n",
      "Requirement already satisfied: mpmath<1.4,>=1.1.0 in /Users/sithukaungset/Library/Python/3.9/lib/python/site-packages (from sympy->torch>=1.11.0->sentence-transformers>=2.6.1->llama-index-embeddings-huggingface) (1.3.0)\n",
      "\u001b[33mWARNING: You are using pip version 21.2.4; however, version 24.2 is available.\n",
      "You should consider upgrading via the '/Applications/Xcode.app/Contents/Developer/usr/bin/python3 -m pip install --upgrade pip' command.\u001b[0m\n",
      "Note: you may need to restart the kernel to use updated packages.\n"
     ]
    }
   ],
   "source": [
    "%pip install llama-index-readers-file pymupdf\n",
    "%pip install llama-index-vector-stores-postgres\n",
    "%pip install llama-index-embeddings-huggingface\n"
   ]
  },
  {
   "cell_type": "code",
   "execution_count": 2,
   "metadata": {},
   "outputs": [
    {
     "name": "stdout",
     "output_type": "stream",
     "text": [
      "Defaulting to user installation because normal site-packages is not writeable\n",
      "Requirement already satisfied: llama-index-llms-llama-cpp in /Users/sithukaungset/Library/Python/3.9/lib/python/site-packages (0.1.4)\n",
      "Requirement already satisfied: llama-cpp-python<0.3.0,>=0.2.32 in /Users/sithukaungset/Library/Python/3.9/lib/python/site-packages (from llama-index-llms-llama-cpp) (0.2.88)\n",
      "Requirement already satisfied: llama-index-core<0.11.0,>=0.10.1 in /Users/sithukaungset/Library/Python/3.9/lib/python/site-packages (from llama-index-llms-llama-cpp) (0.10.66)\n",
      "Requirement already satisfied: jinja2>=2.11.3 in /Users/sithukaungset/Library/Python/3.9/lib/python/site-packages (from llama-cpp-python<0.3.0,>=0.2.32->llama-index-llms-llama-cpp) (3.1.4)\n",
      "Requirement already satisfied: typing-extensions>=4.5.0 in /Users/sithukaungset/Library/Python/3.9/lib/python/site-packages (from llama-cpp-python<0.3.0,>=0.2.32->llama-index-llms-llama-cpp) (4.12.2)\n",
      "Requirement already satisfied: numpy>=1.20.0 in /Users/sithukaungset/Library/Python/3.9/lib/python/site-packages (from llama-cpp-python<0.3.0,>=0.2.32->llama-index-llms-llama-cpp) (1.26.4)\n",
      "Requirement already satisfied: diskcache>=5.6.1 in /Users/sithukaungset/Library/Python/3.9/lib/python/site-packages (from llama-cpp-python<0.3.0,>=0.2.32->llama-index-llms-llama-cpp) (5.6.3)\n",
      "Requirement already satisfied: MarkupSafe>=2.0 in /Users/sithukaungset/Library/Python/3.9/lib/python/site-packages (from jinja2>=2.11.3->llama-cpp-python<0.3.0,>=0.2.32->llama-index-llms-llama-cpp) (2.1.5)\n",
      "Requirement already satisfied: openai>=1.1.0 in /Users/sithukaungset/Library/Python/3.9/lib/python/site-packages (from llama-index-core<0.11.0,>=0.10.1->llama-index-llms-llama-cpp) (1.40.8)\n",
      "Requirement already satisfied: requests>=2.31.0 in /Users/sithukaungset/Library/Python/3.9/lib/python/site-packages (from llama-index-core<0.11.0,>=0.10.1->llama-index-llms-llama-cpp) (2.32.3)\n",
      "Requirement already satisfied: networkx>=3.0 in /Users/sithukaungset/Library/Python/3.9/lib/python/site-packages (from llama-index-core<0.11.0,>=0.10.1->llama-index-llms-llama-cpp) (3.2.1)\n",
      "Requirement already satisfied: dataclasses-json in /Users/sithukaungset/Library/Python/3.9/lib/python/site-packages (from llama-index-core<0.11.0,>=0.10.1->llama-index-llms-llama-cpp) (0.6.7)\n",
      "Requirement already satisfied: typing-inspect>=0.8.0 in /Users/sithukaungset/Library/Python/3.9/lib/python/site-packages (from llama-index-core<0.11.0,>=0.10.1->llama-index-llms-llama-cpp) (0.9.0)\n",
      "Requirement already satisfied: PyYAML>=6.0.1 in /Users/sithukaungset/Library/Python/3.9/lib/python/site-packages (from llama-index-core<0.11.0,>=0.10.1->llama-index-llms-llama-cpp) (6.0.2)\n",
      "Requirement already satisfied: pillow>=9.0.0 in /Users/sithukaungset/Library/Python/3.9/lib/python/site-packages (from llama-index-core<0.11.0,>=0.10.1->llama-index-llms-llama-cpp) (10.4.0)\n",
      "Requirement already satisfied: nltk>=3.8.1 in /Users/sithukaungset/Library/Python/3.9/lib/python/site-packages (from llama-index-core<0.11.0,>=0.10.1->llama-index-llms-llama-cpp) (3.8.1)\n",
      "Requirement already satisfied: fsspec>=2023.5.0 in /Users/sithukaungset/Library/Python/3.9/lib/python/site-packages (from llama-index-core<0.11.0,>=0.10.1->llama-index-llms-llama-cpp) (2024.6.1)\n",
      "Requirement already satisfied: nest-asyncio<2.0.0,>=1.5.8 in /Users/sithukaungset/Library/Python/3.9/lib/python/site-packages (from llama-index-core<0.11.0,>=0.10.1->llama-index-llms-llama-cpp) (1.6.0)\n",
      "Requirement already satisfied: dirtyjson<2.0.0,>=1.0.8 in /Users/sithukaungset/Library/Python/3.9/lib/python/site-packages (from llama-index-core<0.11.0,>=0.10.1->llama-index-llms-llama-cpp) (1.0.8)\n",
      "Requirement already satisfied: httpx in /Users/sithukaungset/Library/Python/3.9/lib/python/site-packages (from llama-index-core<0.11.0,>=0.10.1->llama-index-llms-llama-cpp) (0.27.0)\n",
      "Requirement already satisfied: tiktoken>=0.3.3 in /Users/sithukaungset/Library/Python/3.9/lib/python/site-packages (from llama-index-core<0.11.0,>=0.10.1->llama-index-llms-llama-cpp) (0.7.0)\n",
      "Requirement already satisfied: pandas in /Users/sithukaungset/Library/Python/3.9/lib/python/site-packages (from llama-index-core<0.11.0,>=0.10.1->llama-index-llms-llama-cpp) (2.2.2)\n",
      "Requirement already satisfied: deprecated>=1.2.9.3 in /Users/sithukaungset/Library/Python/3.9/lib/python/site-packages (from llama-index-core<0.11.0,>=0.10.1->llama-index-llms-llama-cpp) (1.2.14)\n",
      "Requirement already satisfied: wrapt in /Users/sithukaungset/Library/Python/3.9/lib/python/site-packages (from llama-index-core<0.11.0,>=0.10.1->llama-index-llms-llama-cpp) (1.16.0)\n",
      "Requirement already satisfied: SQLAlchemy[asyncio]>=1.4.49 in /Users/sithukaungset/Library/Python/3.9/lib/python/site-packages (from llama-index-core<0.11.0,>=0.10.1->llama-index-llms-llama-cpp) (2.0.32)\n",
      "Requirement already satisfied: aiohttp<4.0.0,>=3.8.6 in /Users/sithukaungset/Library/Python/3.9/lib/python/site-packages (from llama-index-core<0.11.0,>=0.10.1->llama-index-llms-llama-cpp) (3.10.3)\n",
      "Requirement already satisfied: tenacity!=8.4.0,<9.0.0,>=8.2.0 in /Users/sithukaungset/Library/Python/3.9/lib/python/site-packages (from llama-index-core<0.11.0,>=0.10.1->llama-index-llms-llama-cpp) (8.5.0)\n",
      "Requirement already satisfied: tqdm<5.0.0,>=4.66.1 in /Users/sithukaungset/Library/Python/3.9/lib/python/site-packages (from llama-index-core<0.11.0,>=0.10.1->llama-index-llms-llama-cpp) (4.66.5)\n",
      "Requirement already satisfied: frozenlist>=1.1.1 in /Users/sithukaungset/Library/Python/3.9/lib/python/site-packages (from aiohttp<4.0.0,>=3.8.6->llama-index-core<0.11.0,>=0.10.1->llama-index-llms-llama-cpp) (1.4.1)\n",
      "Requirement already satisfied: attrs>=17.3.0 in /Users/sithukaungset/Library/Python/3.9/lib/python/site-packages (from aiohttp<4.0.0,>=3.8.6->llama-index-core<0.11.0,>=0.10.1->llama-index-llms-llama-cpp) (24.2.0)\n",
      "Requirement already satisfied: yarl<2.0,>=1.0 in /Users/sithukaungset/Library/Python/3.9/lib/python/site-packages (from aiohttp<4.0.0,>=3.8.6->llama-index-core<0.11.0,>=0.10.1->llama-index-llms-llama-cpp) (1.9.4)\n",
      "Requirement already satisfied: multidict<7.0,>=4.5 in /Users/sithukaungset/Library/Python/3.9/lib/python/site-packages (from aiohttp<4.0.0,>=3.8.6->llama-index-core<0.11.0,>=0.10.1->llama-index-llms-llama-cpp) (6.0.5)\n",
      "Requirement already satisfied: async-timeout<5.0,>=4.0 in /Users/sithukaungset/Library/Python/3.9/lib/python/site-packages (from aiohttp<4.0.0,>=3.8.6->llama-index-core<0.11.0,>=0.10.1->llama-index-llms-llama-cpp) (4.0.3)\n",
      "Requirement already satisfied: aiosignal>=1.1.2 in /Users/sithukaungset/Library/Python/3.9/lib/python/site-packages (from aiohttp<4.0.0,>=3.8.6->llama-index-core<0.11.0,>=0.10.1->llama-index-llms-llama-cpp) (1.3.1)\n",
      "Requirement already satisfied: aiohappyeyeballs>=2.3.0 in /Users/sithukaungset/Library/Python/3.9/lib/python/site-packages (from aiohttp<4.0.0,>=3.8.6->llama-index-core<0.11.0,>=0.10.1->llama-index-llms-llama-cpp) (2.3.6)\n",
      "Requirement already satisfied: click in /Users/sithukaungset/Library/Python/3.9/lib/python/site-packages (from nltk>=3.8.1->llama-index-core<0.11.0,>=0.10.1->llama-index-llms-llama-cpp) (8.1.7)\n",
      "Requirement already satisfied: joblib in /Users/sithukaungset/Library/Python/3.9/lib/python/site-packages (from nltk>=3.8.1->llama-index-core<0.11.0,>=0.10.1->llama-index-llms-llama-cpp) (1.4.2)\n",
      "Requirement already satisfied: regex>=2021.8.3 in /Users/sithukaungset/Library/Python/3.9/lib/python/site-packages (from nltk>=3.8.1->llama-index-core<0.11.0,>=0.10.1->llama-index-llms-llama-cpp) (2024.7.24)\n",
      "Requirement already satisfied: sniffio in /Users/sithukaungset/Library/Python/3.9/lib/python/site-packages (from openai>=1.1.0->llama-index-core<0.11.0,>=0.10.1->llama-index-llms-llama-cpp) (1.3.1)\n",
      "Requirement already satisfied: pydantic<3,>=1.9.0 in /Users/sithukaungset/Library/Python/3.9/lib/python/site-packages (from openai>=1.1.0->llama-index-core<0.11.0,>=0.10.1->llama-index-llms-llama-cpp) (2.8.2)\n",
      "Requirement already satisfied: distro<2,>=1.7.0 in /Users/sithukaungset/Library/Python/3.9/lib/python/site-packages (from openai>=1.1.0->llama-index-core<0.11.0,>=0.10.1->llama-index-llms-llama-cpp) (1.9.0)\n",
      "Requirement already satisfied: jiter<1,>=0.4.0 in /Users/sithukaungset/Library/Python/3.9/lib/python/site-packages (from openai>=1.1.0->llama-index-core<0.11.0,>=0.10.1->llama-index-llms-llama-cpp) (0.5.0)\n",
      "Requirement already satisfied: anyio<5,>=3.5.0 in /Users/sithukaungset/Library/Python/3.9/lib/python/site-packages (from openai>=1.1.0->llama-index-core<0.11.0,>=0.10.1->llama-index-llms-llama-cpp) (4.4.0)\n",
      "Requirement already satisfied: exceptiongroup>=1.0.2 in /Users/sithukaungset/Library/Python/3.9/lib/python/site-packages (from anyio<5,>=3.5.0->openai>=1.1.0->llama-index-core<0.11.0,>=0.10.1->llama-index-llms-llama-cpp) (1.2.2)\n",
      "Requirement already satisfied: idna>=2.8 in /Users/sithukaungset/Library/Python/3.9/lib/python/site-packages (from anyio<5,>=3.5.0->openai>=1.1.0->llama-index-core<0.11.0,>=0.10.1->llama-index-llms-llama-cpp) (3.7)\n",
      "Requirement already satisfied: httpcore==1.* in /Users/sithukaungset/Library/Python/3.9/lib/python/site-packages (from httpx->llama-index-core<0.11.0,>=0.10.1->llama-index-llms-llama-cpp) (1.0.5)\n",
      "Requirement already satisfied: certifi in /Users/sithukaungset/Library/Python/3.9/lib/python/site-packages (from httpx->llama-index-core<0.11.0,>=0.10.1->llama-index-llms-llama-cpp) (2024.7.4)\n",
      "Requirement already satisfied: h11<0.15,>=0.13 in /Users/sithukaungset/Library/Python/3.9/lib/python/site-packages (from httpcore==1.*->httpx->llama-index-core<0.11.0,>=0.10.1->llama-index-llms-llama-cpp) (0.14.0)\n",
      "Requirement already satisfied: pydantic-core==2.20.1 in /Users/sithukaungset/Library/Python/3.9/lib/python/site-packages (from pydantic<3,>=1.9.0->openai>=1.1.0->llama-index-core<0.11.0,>=0.10.1->llama-index-llms-llama-cpp) (2.20.1)\n",
      "Requirement already satisfied: annotated-types>=0.4.0 in /Users/sithukaungset/Library/Python/3.9/lib/python/site-packages (from pydantic<3,>=1.9.0->openai>=1.1.0->llama-index-core<0.11.0,>=0.10.1->llama-index-llms-llama-cpp) (0.7.0)\n",
      "Requirement already satisfied: charset-normalizer<4,>=2 in /Users/sithukaungset/Library/Python/3.9/lib/python/site-packages (from requests>=2.31.0->llama-index-core<0.11.0,>=0.10.1->llama-index-llms-llama-cpp) (3.3.2)\n",
      "Requirement already satisfied: urllib3<3,>=1.21.1 in /Users/sithukaungset/Library/Python/3.9/lib/python/site-packages (from requests>=2.31.0->llama-index-core<0.11.0,>=0.10.1->llama-index-llms-llama-cpp) (2.2.2)\n",
      "Requirement already satisfied: greenlet!=0.4.17 in /Users/sithukaungset/Library/Python/3.9/lib/python/site-packages (from SQLAlchemy[asyncio]>=1.4.49->llama-index-core<0.11.0,>=0.10.1->llama-index-llms-llama-cpp) (3.0.3)\n",
      "Requirement already satisfied: mypy-extensions>=0.3.0 in /Users/sithukaungset/Library/Python/3.9/lib/python/site-packages (from typing-inspect>=0.8.0->llama-index-core<0.11.0,>=0.10.1->llama-index-llms-llama-cpp) (1.0.0)\n",
      "Requirement already satisfied: marshmallow<4.0.0,>=3.18.0 in /Users/sithukaungset/Library/Python/3.9/lib/python/site-packages (from dataclasses-json->llama-index-core<0.11.0,>=0.10.1->llama-index-llms-llama-cpp) (3.21.3)\n",
      "Requirement already satisfied: packaging>=17.0 in /Users/sithukaungset/Library/Python/3.9/lib/python/site-packages (from marshmallow<4.0.0,>=3.18.0->dataclasses-json->llama-index-core<0.11.0,>=0.10.1->llama-index-llms-llama-cpp) (23.1)\n",
      "Requirement already satisfied: python-dateutil>=2.8.2 in /Users/sithukaungset/Library/Python/3.9/lib/python/site-packages (from pandas->llama-index-core<0.11.0,>=0.10.1->llama-index-llms-llama-cpp) (2.8.2)\n",
      "Requirement already satisfied: tzdata>=2022.7 in /Users/sithukaungset/Library/Python/3.9/lib/python/site-packages (from pandas->llama-index-core<0.11.0,>=0.10.1->llama-index-llms-llama-cpp) (2024.1)\n",
      "Requirement already satisfied: pytz>=2020.1 in /Users/sithukaungset/Library/Python/3.9/lib/python/site-packages (from pandas->llama-index-core<0.11.0,>=0.10.1->llama-index-llms-llama-cpp) (2024.1)\n",
      "Requirement already satisfied: six>=1.5 in /Applications/Xcode.app/Contents/Developer/Library/Frameworks/Python3.framework/Versions/3.9/lib/python3.9/site-packages (from python-dateutil>=2.8.2->pandas->llama-index-core<0.11.0,>=0.10.1->llama-index-llms-llama-cpp) (1.15.0)\n",
      "\u001b[33mWARNING: You are using pip version 21.2.4; however, version 24.2 is available.\n",
      "You should consider upgrading via the '/Applications/Xcode.app/Contents/Developer/usr/bin/python3 -m pip install --upgrade pip' command.\u001b[0m\n",
      "Note: you may need to restart the kernel to use updated packages.\n"
     ]
    }
   ],
   "source": [
    "%pip install llama-index-llms-llama-cpp"
   ]
  },
  {
   "cell_type": "code",
   "execution_count": 3,
   "metadata": {},
   "outputs": [
    {
     "name": "stdout",
     "output_type": "stream",
     "text": [
      "Requirement already satisfied: typing-extensions in /Users/sithukaungset/.pyenv/versions/3.10.4/lib/python3.10/site-packages (4.12.2)\n",
      "\u001b[33mWARNING: Error parsing dependencies of textract: .* suffix can only be used with `==` or `!=` operators\n",
      "    extract-msg (<=0.29.*)\n",
      "                 ~~~~~~~^\u001b[0m\u001b[33m\n",
      "\u001b[0mRequirement already satisfied: pip in /Users/sithukaungset/.pyenv/versions/3.10.4/lib/python3.10/site-packages (24.2)\n",
      "\u001b[33mWARNING: Error parsing dependencies of textract: .* suffix can only be used with `==` or `!=` operators\n",
      "    extract-msg (<=0.29.*)\n",
      "                 ~~~~~~~^\u001b[0m\u001b[33m\n",
      "\u001b[0m"
     ]
    }
   ],
   "source": [
    "!pip install --upgrade typing-extensions\n",
    "!pip install --upgrade pip"
   ]
  },
  {
   "cell_type": "code",
   "execution_count": 4,
   "metadata": {},
   "outputs": [
    {
     "name": "stderr",
     "output_type": "stream",
     "text": [
      "/Users/sithukaungset/Library/Python/3.9/lib/python/site-packages/urllib3/__init__.py:35: NotOpenSSLWarning: urllib3 v2 only supports OpenSSL 1.1.1+, currently the 'ssl' module is compiled with 'LibreSSL 2.8.3'. See: https://github.com/urllib3/urllib3/issues/3020\n",
      "  warnings.warn(\n",
      "/Users/sithukaungset/Library/Python/3.9/lib/python/site-packages/tqdm/auto.py:21: TqdmWarning: IProgress not found. Please update jupyter and ipywidgets. See https://ipywidgets.readthedocs.io/en/stable/user_install.html\n",
      "  from .autonotebook import tqdm as notebook_tqdm\n"
     ]
    }
   ],
   "source": [
    "# sentence transformers\n",
    "from llama_index.embeddings.huggingface import HuggingFaceEmbedding\n",
    "\n",
    "\n",
    "embed_model = HuggingFaceEmbedding(model_name=\"BAAI/bge-small-en\")"
   ]
  },
  {
   "cell_type": "code",
   "execution_count": 6,
   "metadata": {},
   "outputs": [
    {
     "name": "stdout",
     "output_type": "stream",
     "text": [
      "Requirement already satisfied: llama-cpp-python in /Users/sithukaungset/.pyenv/versions/3.10.4/lib/python3.10/site-packages (0.2.2)\n",
      "Requirement already satisfied: typing-extensions>=4.5.0 in /Users/sithukaungset/.pyenv/versions/3.10.4/lib/python3.10/site-packages (from llama-cpp-python) (4.12.2)\n",
      "Requirement already satisfied: numpy>=1.20.0 in /Users/sithukaungset/.pyenv/versions/3.10.4/lib/python3.10/site-packages (from llama-cpp-python) (1.26.4)\n",
      "Requirement already satisfied: diskcache>=5.6.1 in /Users/sithukaungset/.pyenv/versions/3.10.4/lib/python3.10/site-packages (from llama-cpp-python) (5.6.3)\n",
      "\u001b[33mWARNING: Error parsing dependencies of textract: .* suffix can only be used with `==` or `!=` operators\n",
      "    extract-msg (<=0.29.*)\n",
      "                 ~~~~~~~^\u001b[0m\u001b[33m\n",
      "\u001b[0m"
     ]
    }
   ],
   "source": [
    "#Llama CPP, in this notebook, we use the llama-2-chat-13b-ggml model, along with the proper prompt formatting.\n",
    "\n",
    "!pip install llama-cpp-python"
   ]
  },
  {
   "cell_type": "code",
   "execution_count": 9,
   "metadata": {},
   "outputs": [
    {
     "name": "stdout",
     "output_type": "stream",
     "text": [
      "Downloading url https://huggingface.co/TheBloke/Llama-2-13B-chat-GGUF/resolve/main/llama-2-13b-chat.Q4_0.gguf to path /Users/sithukaungset/Library/Caches/llama_index/models/llama-2-13b-chat.Q4_0.gguf\n",
      "total size (MB): 7365.83\n"
     ]
    },
    {
     "name": "stderr",
     "output_type": "stream",
     "text": [
      " 50%|█████     | 3533/7024 [03:15<03:13, 18.03it/s]\n"
     ]
    },
    {
     "name": "stdout",
     "output_type": "stream",
     "text": [
      "Error downloading model: [Errno 28] No space left on device\n",
      "Download incomplete. Removing partially downloaded file.\n"
     ]
    },
    {
     "ename": "ValueError",
     "evalue": "Download incomplete.",
     "output_type": "error",
     "traceback": [
      "\u001b[0;31m---------------------------------------------------------------------------\u001b[0m",
      "\u001b[0;31mValueError\u001b[0m                                Traceback (most recent call last)",
      "Cell \u001b[0;32mIn[9], line 5\u001b[0m\n\u001b[1;32m      1\u001b[0m \u001b[38;5;28;01mfrom\u001b[39;00m \u001b[38;5;21;01mllama_index\u001b[39;00m\u001b[38;5;21;01m.\u001b[39;00m\u001b[38;5;21;01mllms\u001b[39;00m\u001b[38;5;21;01m.\u001b[39;00m\u001b[38;5;21;01mllama_cpp\u001b[39;00m \u001b[38;5;28;01mimport\u001b[39;00m LlamaCPP\n\u001b[1;32m      3\u001b[0m model_url \u001b[38;5;241m=\u001b[39m \u001b[38;5;124m\"\u001b[39m\u001b[38;5;124mhttps://huggingface.co/TheBloke/Llama-2-13B-chat-GGUF/resolve/main/llama-2-13b-chat.Q4_0.gguf\u001b[39m\u001b[38;5;124m\"\u001b[39m\n\u001b[0;32m----> 5\u001b[0m llm \u001b[38;5;241m=\u001b[39m \u001b[43mLlamaCPP\u001b[49m\u001b[43m(\u001b[49m\n\u001b[1;32m      6\u001b[0m \u001b[43m    \u001b[49m\u001b[38;5;66;43;03m# You can pass in the URL to a GGML model to download it automatically\u001b[39;49;00m\n\u001b[1;32m      7\u001b[0m \u001b[43m    \u001b[49m\u001b[43mmodel_url\u001b[49m\u001b[43m \u001b[49m\u001b[38;5;241;43m=\u001b[39;49m\u001b[43m \u001b[49m\u001b[43mmodel_url\u001b[49m\u001b[43m,\u001b[49m\n\u001b[1;32m      8\u001b[0m \u001b[43m    \u001b[49m\u001b[38;5;66;43;03m# optionally, we can set the path to a pre-downloaded model instead of model_url\u001b[39;49;00m\n\u001b[1;32m      9\u001b[0m \u001b[43m    \u001b[49m\u001b[43mmodel_path\u001b[49m\u001b[43m \u001b[49m\u001b[38;5;241;43m=\u001b[39;49m\u001b[43m \u001b[49m\u001b[38;5;28;43;01mNone\u001b[39;49;00m\u001b[43m,\u001b[49m\n\u001b[1;32m     10\u001b[0m \u001b[43m    \u001b[49m\u001b[43mtemperature\u001b[49m\u001b[43m \u001b[49m\u001b[38;5;241;43m=\u001b[39;49m\u001b[43m \u001b[49m\u001b[38;5;241;43m0.1\u001b[39;49m\u001b[43m,\u001b[49m\n\u001b[1;32m     11\u001b[0m \u001b[43m    \u001b[49m\u001b[43mmax_new_tokens\u001b[49m\u001b[43m \u001b[49m\u001b[38;5;241;43m=\u001b[39;49m\u001b[43m \u001b[49m\u001b[38;5;241;43m256\u001b[39;49m\u001b[43m,\u001b[49m\n\u001b[1;32m     12\u001b[0m \u001b[43m    \u001b[49m\u001b[38;5;66;43;03m# llama2 has a context window of 4096 tokens, but we set it lower to allow to allow for some wiggle room\u001b[39;49;00m\n\u001b[1;32m     13\u001b[0m \u001b[43m    \u001b[49m\u001b[43mcontext_window\u001b[49m\u001b[43m \u001b[49m\u001b[38;5;241;43m=\u001b[39;49m\u001b[43m \u001b[49m\u001b[38;5;241;43m3900\u001b[39;49m\u001b[43m,\u001b[49m\n\u001b[1;32m     14\u001b[0m \u001b[43m    \u001b[49m\u001b[38;5;66;43;03m# kwargs to pass to __call__\u001b[39;49;00m\n\u001b[1;32m     15\u001b[0m \u001b[43m    \u001b[49m\u001b[43mgenerate_kwargs\u001b[49m\u001b[43m \u001b[49m\u001b[38;5;241;43m=\u001b[39;49m\u001b[43m \u001b[49m\u001b[43m{\u001b[49m\u001b[43m}\u001b[49m\u001b[43m,\u001b[49m\n\u001b[1;32m     16\u001b[0m \u001b[43m    \u001b[49m\u001b[38;5;66;43;03m# kwargs to pass to __init__\u001b[39;49;00m\n\u001b[1;32m     17\u001b[0m \u001b[43m    \u001b[49m\u001b[38;5;66;43;03m# set to at least 1 to use GPU\u001b[39;49;00m\n\u001b[1;32m     18\u001b[0m \u001b[43m    \u001b[49m\u001b[43mmodel_kwargs\u001b[49m\u001b[43m \u001b[49m\u001b[38;5;241;43m=\u001b[39;49m\u001b[43m \u001b[49m\u001b[43m{\u001b[49m\u001b[38;5;124;43m\"\u001b[39;49m\u001b[38;5;124;43mn_gpu_layers\u001b[39;49m\u001b[38;5;124;43m\"\u001b[39;49m\u001b[43m:\u001b[49m\u001b[43m \u001b[49m\u001b[38;5;241;43m1\u001b[39;49m\u001b[43m}\u001b[49m\u001b[43m,\u001b[49m\n\u001b[1;32m     19\u001b[0m \u001b[43m    \u001b[49m\u001b[43mverbose\u001b[49m\u001b[38;5;241;43m=\u001b[39;49m\u001b[38;5;28;43;01mTrue\u001b[39;49;00m\u001b[43m,\u001b[49m\n\u001b[1;32m     20\u001b[0m \u001b[43m)\u001b[49m\n",
      "File \u001b[0;32m~/Library/Python/3.9/lib/python/site-packages/llama_index/llms/llama_cpp/base.py:170\u001b[0m, in \u001b[0;36mLlamaCPP.__init__\u001b[0;34m(self, model_url, model_path, temperature, max_new_tokens, context_window, callback_manager, generate_kwargs, model_kwargs, verbose, system_prompt, messages_to_prompt, completion_to_prompt, pydantic_program_mode, output_parser)\u001b[0m\n\u001b[1;32m    168\u001b[0m \u001b[38;5;28;01mif\u001b[39;00m \u001b[38;5;129;01mnot\u001b[39;00m os\u001b[38;5;241m.\u001b[39mpath\u001b[38;5;241m.\u001b[39mexists(model_path):\n\u001b[1;32m    169\u001b[0m     os\u001b[38;5;241m.\u001b[39mmakedirs(os\u001b[38;5;241m.\u001b[39mpath\u001b[38;5;241m.\u001b[39mdirname(model_path), exist_ok\u001b[38;5;241m=\u001b[39m\u001b[38;5;28;01mTrue\u001b[39;00m)\n\u001b[0;32m--> 170\u001b[0m     \u001b[38;5;28;43mself\u001b[39;49m\u001b[38;5;241;43m.\u001b[39;49m\u001b[43m_download_url\u001b[49m\u001b[43m(\u001b[49m\u001b[43mmodel_url\u001b[49m\u001b[43m,\u001b[49m\u001b[43m \u001b[49m\u001b[43mmodel_path\u001b[49m\u001b[43m)\u001b[49m\n\u001b[1;32m    171\u001b[0m     \u001b[38;5;28;01massert\u001b[39;00m os\u001b[38;5;241m.\u001b[39mpath\u001b[38;5;241m.\u001b[39mexists(model_path)\n\u001b[1;32m    173\u001b[0m \u001b[38;5;28mself\u001b[39m\u001b[38;5;241m.\u001b[39m_model \u001b[38;5;241m=\u001b[39m Llama(model_path\u001b[38;5;241m=\u001b[39mmodel_path, \u001b[38;5;241m*\u001b[39m\u001b[38;5;241m*\u001b[39mmodel_kwargs)\n",
      "File \u001b[0;32m~/Library/Python/3.9/lib/python/site-packages/llama_index/llms/llama_cpp/base.py:251\u001b[0m, in \u001b[0;36mLlamaCPP._download_url\u001b[0;34m(self, model_url, model_path)\u001b[0m\n\u001b[1;32m    249\u001b[0m \u001b[38;5;28mprint\u001b[39m(\u001b[38;5;124m\"\u001b[39m\u001b[38;5;124mDownload incomplete.\u001b[39m\u001b[38;5;124m\"\u001b[39m, \u001b[38;5;124m\"\u001b[39m\u001b[38;5;124mRemoving partially downloaded file.\u001b[39m\u001b[38;5;124m\"\u001b[39m)\n\u001b[1;32m    250\u001b[0m os\u001b[38;5;241m.\u001b[39mremove(model_path)\n\u001b[0;32m--> 251\u001b[0m \u001b[38;5;28;01mraise\u001b[39;00m \u001b[38;5;167;01mValueError\u001b[39;00m(\u001b[38;5;124m\"\u001b[39m\u001b[38;5;124mDownload incomplete.\u001b[39m\u001b[38;5;124m\"\u001b[39m)\n",
      "\u001b[0;31mValueError\u001b[0m: Download incomplete."
     ]
    }
   ],
   "source": [
    "from llama_index.llms.llama_cpp import LlamaCPP\n",
    "\n",
    "model_url = \"https://huggingface.co/TheBloke/Llama-2-13B-chat-GGUF/resolve/main/llama-2-13b-chat.Q4_0.gguf\"\n",
    "\n",
    "llm = LlamaCPP(\n",
    "    # You can pass in the URL to a GGML model to download it automatically\n",
    "    model_url = model_url,\n",
    "    # optionally, we can set the path to a pre-downloaded model instead of model_url\n",
    "    model_path = None,\n",
    "    temperature = 0.1,\n",
    "    max_new_tokens = 256,\n",
    "    # llama2 has a context window of 4096 tokens, but we set it lower to allow to allow for some wiggle room\n",
    "    context_window = 3900,\n",
    "    # kwargs to pass to __call__\n",
    "    generate_kwargs = {},\n",
    "    # kwargs to pass to __init__\n",
    "    # set to at least 1 to use GPU\n",
    "    model_kwargs = {\"n_gpu_layers\": 1},\n",
    "    verbose=True,\n",
    ")\n"
   ]
  },
  {
   "cell_type": "code",
   "execution_count": null,
   "metadata": {},
   "outputs": [],
   "source": [
    "# init Postgres \n",
    "# Using an existing Postgres running at the localhost, create the database we will be using\n",
    "!pip install psycopg2-binary pgvector asycpg \"sqlalchemy[asyncio]\" greenlet\n"
   ]
  },
  {
   "cell_type": "code",
   "execution_count": null,
   "metadata": {},
   "outputs": [],
   "source": [
    "import psycopg2\n",
    "\n",
    "dbname = \"vector_db\"\n",
    "host = \"localhost\"\n",
    "password = \"password\"\n",
    "port = \"5432\"\n",
    "user = \"jerry\"\n",
    "# conn = psycopg2.connect(connection_string)\n",
    "conn = psycopg2.connect(\n",
    "    dbname=dbname, \n",
    "    user=user, \n",
    "    password=password, \n",
    "    host=host, \n",
    "    port=port,\n",
    "    user=user)\n",
    "conn.autocommit = True\n",
    "\n",
    "with conn.cursor() as c:\n",
    "    c.execute(f\"DROP DATABASE IF EXISTS {dbname}\")\n",
    "    c.execute(f\"CREATE DATABASE {dbname}\")"
   ]
  },
  {
   "cell_type": "code",
   "execution_count": null,
   "metadata": {},
   "outputs": [],
   "source": [
    "from sqlalchemy import make_url\n",
    "from llama_index.vector_stores.postgres import PGVectorStore\n",
    "\n",
    "vector_store = PGVectorStore.from_params(\n",
    "    database=db_name,\n",
    "    host=host,\n",
    "    password=password,\n",
    "    port=port, \n",
    "    user=user,\n",
    "    table_name=\"llama2_paper\",\n",
    "    embed_dim=384, # Openai embedding dimension\n",
    ")"
   ]
  },
  {
   "cell_type": "code",
   "execution_count": null,
   "metadata": {},
   "outputs": [],
   "source": [
    "# Build an Ingestion Pipeline from Scratch\n",
    "# 1. Load Data\n",
    "!mkdir data\n",
    "!wget --user-agent \"Mozilla\" \"https://arxiv.org/pdf/2307.09288.pdf\" -O \"data/llama2.pdf\""
   ]
  },
  {
   "cell_type": "code",
   "execution_count": null,
   "metadata": {},
   "outputs": [],
   "source": [
    "from pathlib import Path\n",
    "from llama_index.readers.file import PyMuPDFReader"
   ]
  },
  {
   "cell_type": "code",
   "execution_count": null,
   "metadata": {},
   "outputs": [],
   "source": [
    "loader = PyMuPDFReader()\n",
    "documents = loader.load(file_path=Path(\"data/llama2.pdf\"))"
   ]
  },
  {
   "cell_type": "code",
   "execution_count": null,
   "metadata": {},
   "outputs": [],
   "source": [
    "# 2. Use a Text Splitter to split the documents\n",
    "from llama_index.core.node_parser import SentenceSplitter\n"
   ]
  },
  {
   "cell_type": "code",
   "execution_count": null,
   "metadata": {},
   "outputs": [],
   "source": [
    "text_parser = SentenceSplitter(\n",
    "    chunk_size=1024,\n",
    "    # separator = \"\",\n",
    ")\n"
   ]
  },
  {
   "cell_type": "code",
   "execution_count": null,
   "metadata": {},
   "outputs": [],
   "source": [
    "text_chunks = []\n",
    "# maintain relationship with source doc index, to help inject doc metadata in (3)\n",
    "\n",
    "doc_idxs = []\n",
    "for doc_idx, doc in enumerate(documents):\n",
    "    cur_text_chunks = text_parser.split_text(doc.text)\n",
    "    text_chunks.extend(cur_text_chunks)\n",
    "    doc_idxs.extend([doc_idx] * len(cur_text_chunks))"
   ]
  },
  {
   "cell_type": "code",
   "execution_count": null,
   "metadata": {},
   "outputs": [],
   "source": [
    "# 3. Manually Construct Nodes from Text Chunks\n",
    "from llama_index.core.schema import TextNode\n",
    "\n",
    "nodes = []\n",
    "for idx, text_chunk in enumerate(text_chunks):\n",
    "    nodes = TextNode(\n",
    "        text = text_chunk,\n",
    "    )\n",
    "    src_doc = documents[doc_idxs[idx]]\n",
    "    node.metadata = src_doc"
   ]
  }
 ],
 "metadata": {
  "kernelspec": {
   "display_name": "Python 3",
   "language": "python",
   "name": "python3"
  },
  "language_info": {
   "codemirror_mode": {
    "name": "ipython",
    "version": 3
   },
   "file_extension": ".py",
   "mimetype": "text/x-python",
   "name": "python",
   "nbconvert_exporter": "python",
   "pygments_lexer": "ipython3",
   "version": "3.9.6"
  }
 },
 "nbformat": 4,
 "nbformat_minor": 2
}
